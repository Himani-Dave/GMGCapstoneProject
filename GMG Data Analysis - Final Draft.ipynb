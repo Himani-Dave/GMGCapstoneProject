{
 "cells": [
  {
   "cell_type": "markdown",
   "metadata": {},
   "source": [
    "Importing pandas library"
   ]
  },
  {
   "cell_type": "code",
   "execution_count": null,
   "metadata": {},
   "outputs": [],
   "source": [
    "import pandas as pd"
   ]
  },
  {
   "cell_type": "markdown",
   "metadata": {},
   "source": [
    "Importing contacts_py in the form of a data frame"
   ]
  },
  {
   "cell_type": "code",
   "execution_count": null,
   "metadata": {},
   "outputs": [],
   "source": [
    "contacts = pd.read_excel(\"E:\\MyFolder\\Cambrian College\\Capstone Project\\contacts_py.xlsx\", sheet = 1)\n",
    "print(contacts)"
   ]
  },
  {
   "cell_type": "markdown",
   "metadata": {},
   "source": [
    "Replacing the NaNs in the data frame with blank spaces"
   ]
  },
  {
   "cell_type": "code",
   "execution_count": null,
   "metadata": {},
   "outputs": [],
   "source": [
    "contacts = contacts.fillna(\" \")\n",
    "print(contacts)"
   ]
  },
  {
   "cell_type": "markdown",
   "metadata": {},
   "source": [
    "Extracting the contacts which are companies from the contacts dataframe"
   ]
  },
  {
   "cell_type": "code",
   "execution_count": null,
   "metadata": {},
   "outputs": [],
   "source": [
    "contact_companies = contacts[contacts[\"Company or Person\"] == \"Company\"]"
   ]
  },
  {
   "cell_type": "markdown",
   "metadata": {},
   "source": [
    "Importing the files that contain tags of the events in the year 2017, 2018, and 2019 and converting them to a list"
   ]
  },
  {
   "cell_type": "code",
   "execution_count": null,
   "metadata": {},
   "outputs": [],
   "source": [
    "tags2019 = pd.read_excel(\"E:\\MyFolder\\Cambrian College\\Capstone Project\\Tags2019.xlsx\").values.tolist()"
   ]
  },
  {
   "cell_type": "code",
   "execution_count": null,
   "metadata": {},
   "outputs": [],
   "source": [
    "tags2018 = pd.read_excel(\"E:\\MyFolder\\Cambrian College\\Capstone Project\\Tags2018.xlsx\").values.tolist()"
   ]
  },
  {
   "cell_type": "code",
   "execution_count": null,
   "metadata": {},
   "outputs": [],
   "source": [
    "tags2017 = pd.read_excel(\"E:\\MyFolder\\Cambrian College\\Capstone Project\\Tags2017.xlsx\").values.tolist()"
   ]
  },
  {
   "cell_type": "markdown",
   "metadata": {},
   "source": [
    "A function to get a data frame that contains a list of events along with the companies that have attended the event"
   ]
  },
  {
   "cell_type": "code",
   "execution_count": null,
   "metadata": {},
   "outputs": [],
   "source": [
    "def tagsAndCompanies(tags):\n",
    "    tagsdict = {}\n",
    "    for each in tags:\n",
    "        complist = contact_companies[contact_companies.apply(lambda row: row.astype(str).str.contains(str(each[0]), case=False).any(), axis=1)]\n",
    "        names = complist.iloc[:,0].values\n",
    "        name_list = list()\n",
    "        for name in names:\n",
    "            name_list.append(name)\n",
    "        tagsdict[each[0]] = name_list\n",
    "    tagsandcomp_df = pd.DataFrame.from_dict(tagsdict, orient = \"index\")\n",
    "    return tagsandcomp_df"
   ]
  },
  {
   "cell_type": "markdown",
   "metadata": {},
   "source": [
    "A list of events in 2019 and the companies that have attended those events"
   ]
  },
  {
   "cell_type": "code",
   "execution_count": null,
   "metadata": {},
   "outputs": [],
   "source": [
    "companies2019 = tagsAndCompanies(tags2019)\n",
    "companies2019.to_excel('E:\\MyFolder\\Cambrian College\\Capstone Project\\Companies2019.xlsx')"
   ]
  },
  {
   "cell_type": "markdown",
   "metadata": {},
   "source": [
    "A list of events in 2018 and the companies that have attended those events"
   ]
  },
  {
   "cell_type": "code",
   "execution_count": null,
   "metadata": {},
   "outputs": [],
   "source": [
    "companies2018 = tagsAndCompanies(tags2018)\n",
    "companies2018.to_excel('E:\\MyFolder\\Cambrian College\\Capstone Project\\Companies2018.xlsx')"
   ]
  },
  {
   "cell_type": "markdown",
   "metadata": {},
   "source": [
    "A list of events in 2017 and the companies that have attended those events"
   ]
  },
  {
   "cell_type": "code",
   "execution_count": null,
   "metadata": {},
   "outputs": [],
   "source": [
    "companies2017 = tagsAndCompanies(tags2017)\n",
    "companies2017.to_excel('E:\\MyFolder\\Cambrian College\\Capstone Project\\Companies2017.xlsx')"
   ]
  },
  {
   "cell_type": "markdown",
   "metadata": {},
   "source": [
    "Code to get the list of companies that have attended the one event that was conducted in 2016"
   ]
  },
  {
   "cell_type": "code",
   "execution_count": null,
   "metadata": {},
   "outputs": [],
   "source": [
    "tags2016 = ['Workshop - Autonomous Mining & Mobile Equipment Open Data - Tucson - October 2016']\n",
    "tagsdict2016 = {}\n",
    "complist2016 = contact_companies[contact_companies.apply(lambda row: row.astype(str).str.contains(tags2016[0], case=False).any(), axis=1)]\n",
    "names = complist2016.iloc[:,0].values\n",
    "name_list = list()\n",
    "for name in names:\n",
    "    name_list.append(name)\n",
    "tagsdict2016['Workshop - Autonomous Mining & Mobile Equipment Open Data - Tucson - October 2016'] = name_list\n",
    "comp2016_df = pd.DataFrame.from_dict(tagsdict2016, orient = \"index\")\n",
    "comp2016_df.to_excel('E:\\MyFolder\\Cambrian College\\Capstone Project\\Companies2016.xlsx')"
   ]
  }
 ],
 "metadata": {
  "kernelspec": {
   "display_name": "Python 3",
   "language": "python",
   "name": "python3"
  },
  "language_info": {
   "codemirror_mode": {
    "name": "ipython",
    "version": 3
   },
   "file_extension": ".py",
   "mimetype": "text/x-python",
   "name": "python",
   "nbconvert_exporter": "python",
   "pygments_lexer": "ipython3",
   "version": "3.7.1"
  }
 },
 "nbformat": 4,
 "nbformat_minor": 2
}
