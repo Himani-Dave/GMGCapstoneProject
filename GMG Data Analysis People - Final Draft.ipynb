{
 "cells": [
  {
   "cell_type": "markdown",
   "metadata": {},
   "source": [
    "Importing pandas and collections libraries"
   ]
  },
  {
   "cell_type": "code",
   "execution_count": null,
   "metadata": {},
   "outputs": [],
   "source": [
    "import pandas as pd\n",
    "import collections"
   ]
  },
  {
   "cell_type": "markdown",
   "metadata": {},
   "source": [
    "Importing contacts_visual.xlsx in the form of a data frame, replacing NaNs with blanks, and extracting the list of contacts that are not companies in contact_companies data frame"
   ]
  },
  {
   "cell_type": "code",
   "execution_count": null,
   "metadata": {},
   "outputs": [],
   "source": [
    "contacts = pd.read_excel(\"E:\\MyFolder\\Cambrian College\\Capstone Project\\contacts_visual.xlsx\", sheet = 1)\n",
    "contacts = contacts.fillna(\" \")\n",
    "contact_companies = contacts[contacts[\"Company or Person\"] == \"Person\"]"
   ]
  },
  {
   "cell_type": "markdown",
   "metadata": {},
   "source": [
    "Importing the tags associated with the list of events in 2019"
   ]
  },
  {
   "cell_type": "code",
   "execution_count": null,
   "metadata": {},
   "outputs": [],
   "source": [
    "tags2019 = pd.read_excel(\"E:\\MyFolder\\Cambrian College\\Capstone Project\\Tags2019.xlsx\").values.tolist()"
   ]
  },
  {
   "cell_type": "markdown",
   "metadata": {},
   "source": [
    "Function to get a data frame with a list of events and the people that have attended those events"
   ]
  },
  {
   "cell_type": "code",
   "execution_count": null,
   "metadata": {},
   "outputs": [],
   "source": [
    "def tagsAndCompanies(tags):\n",
    "    tagsdict = {}\n",
    "    for each in tags:\n",
    "        complist = contact_companies[contact_companies.apply(lambda row: row.astype(str).str.contains(str(each[0]), case=False).any(), axis=1)]\n",
    "        names = complist.iloc[:,2].values\n",
    "        name_list = list()\n",
    "        for name in names:\n",
    "            name_list.append(name)\n",
    "        tagsdict[each[0]] = name_list\n",
    "    tagsandcomp_df = pd.DataFrame.from_dict(tagsdict, orient = \"index\")\n",
    "    return tagsandcomp_df"
   ]
  },
  {
   "cell_type": "markdown",
   "metadata": {},
   "source": [
    "Getting the data frame for events in 2019"
   ]
  },
  {
   "cell_type": "code",
   "execution_count": null,
   "metadata": {},
   "outputs": [],
   "source": [
    "people2019 = tagsAndCompanies(tags2019)"
   ]
  },
  {
   "cell_type": "markdown",
   "metadata": {},
   "source": [
    "Transforming the data frame"
   ]
  },
  {
   "cell_type": "code",
   "execution_count": null,
   "metadata": {},
   "outputs": [],
   "source": [
    "comp_df = contact_companies.iloc[:,[1,2]].values.tolist()\n",
    "people2019 = people2019.transpose()"
   ]
  },
  {
   "cell_type": "markdown",
   "metadata": {},
   "source": [
    "Function to count the number of employees that have attended a particular event by company"
   ]
  },
  {
   "cell_type": "code",
   "execution_count": null,
   "metadata": {},
   "outputs": [],
   "source": [
    "def emp_counter(tag):\n",
    "    taglist = list(people2019.loc[:,tag].values)\n",
    "    taglist = list(filter(None, taglist))\n",
    "    emp_list = []\n",
    "    for name in taglist:\n",
    "        for each in comp_df:\n",
    "            if(name == each[1] and len(each) == 2):\n",
    "                emp_list.append(each[0])\n",
    "    counter = collections.Counter(emp_list)\n",
    "    counter = dict(counter)\n",
    "    return counter       "
   ]
  },
  {
   "cell_type": "markdown",
   "metadata": {},
   "source": [
    "Counting the number of employees for each event in 2019"
   ]
  },
  {
   "cell_type": "code",
   "execution_count": null,
   "metadata": {},
   "outputs": [],
   "source": [
    "forumadelaide = emp_counter('Forum - Adelaide - March  2019')        \n",
    "forumAIMontreal = emp_counter('Forum - AI in Mining - Montreal - May 2019')\n",
    "forumJohannesburg = emp_counter('Forum - Johannesburg - April 2019')\n",
    "forumLulea = emp_counter('Forum - Lulea - March 2019')\n",
    "forumTucson = emp_counter('Forum - Tucson - May 2019')\n",
    "wglmMontreal = emp_counter('Working Group Lunch Meeting - Data Access and Usage - Montreal - April 2019')\n",
    "wglmUCMontreal = emp_counter('Working Group Lunch Meeting - Underground Communications - Montreal - April 2019')\n",
    "workshopAIAdelaide = emp_counter('Workshop - AI in Mining - Adelaide - March 2019')\n",
    "workshopAILulea = emp_counter('Workshop - AI in Mining - Lulea - March 2019')\n",
    "workshopAIMontreal = emp_counter('Workshop - AI in Mining - Montreal - May 2019')\n",
    "workshopAISantiago = emp_counter('Workshop - AI in Mining - Santiago - June 2019')\n",
    "workshopAMLulea = emp_counter('Workshop - Autonomous Mining - Lulea - March 2019')\n",
    "workshopDEMississauga = emp_counter('Workshop - Data Exchange for Mine Software - Mississauga - Feb 28-March 1 - 2019')\n",
    "workshopFSEdmonton = emp_counter('Workshop - Functional Safety for Autonomous Equipment - Edmonton - March 26 2019')\n",
    "workshopFSPerth = emp_counter('Workshop - Functional Safety for Autonomous Equipment - Perth - Feb 18 2019')\n",
    "workshopFSSantiago = emp_counter('Workshop - Functional Safety for Autonomous Equipment - Santiago - June 5 2019')\n",
    "workshopFSSudbury = emp_counter('Workshop - Functional Safety for Autonomous Equipment - Sudbury - April 25 2019')\n",
    "AGMMontreal = emp_counter('AGM and Social - Montreal - April 2019')\n",
    "CIMMontreal = emp_counter('CIM - Montreal - 2019')\n",
    "SMEDenver = emp_counter('SME - Denver 2019')\n",
    "SCMontreal = emp_counter('Short Course - BEV - Montreal - April 2019')\n",
    "SCIASMontreal = emp_counter('Short Course - Implementation of Autonomous Systems - Montreal - April 2019')"
   ]
  },
  {
   "cell_type": "markdown",
   "metadata": {},
   "source": [
    "Creating a dataframe for the number of employees by company and event"
   ]
  },
  {
   "cell_type": "code",
   "execution_count": null,
   "metadata": {},
   "outputs": [],
   "source": [
    "all_dicts = [forumadelaide, forumAIMontreal, forumJohannesburg, forumLulea, forumTucson, wglmMontreal, wglmUCMontreal,\n",
    "            workshopAIAdelaide, workshopAILulea, workshopAIMontreal, workshopAISantiago, workshopAMLulea, workshopDEMississauga, \n",
    "            workshopFSEdmonton, workshopFSPerth, workshopFSSantiago, workshopFSSudbury, AGMMontreal, CIMMontreal, SMEDenver,\n",
    "            SCMontreal, SCIASMontreal]\n",
    "attendees_df = pd.DataFrame.from_records(all_dicts).fillna(\" \")\n",
    "attendees_df = attendees_df.rename(index = {0:\"Forum - Adelaide - March  2019\", 1:\"Forum - AI in Mining - Montreal - May 2019\", \n",
    "                                              2:\"Forum - Johannesburg - April 2019\", 3:\"Forum - Lulea - March 2019\",\n",
    "                                              4:\"Forum - Tucson - May 2019\", 5:\"Working Group Lunch Meeting - Data Access and Usage - Montreal - April 2019\", \n",
    "                                              6:\"Working Group Lunch Meeting - Underground Communications - Montreal - April 2019\", 7:\"Workshop - AI in Mining - Adelaide - March 2019\",\n",
    "                                              8:\"Workshop - AI in Mining - Lulea - March 2019\", 9:\"Workshop - AI in Mining - Montreal - May 2019\",\n",
    "                                            10:\"Workshop - AI in Mining - Santiago - June 2019\", 11:\"Workshop - Autonomous Mining - Lulea - March 2019\",\n",
    "                                                12:\"Workshop - Data Exchange for Mine Software - Mississauga - Feb 28-March 1 - 2019\",\n",
    "                                               13:\"Workshop - Functional Safety for Autonomous Equipment - Edmonton - March 26 2019\",\n",
    "                                               14:\"Workshop - Functional Safety for Autonomous Equipment - Perth - Feb 18 2019\",\n",
    "                                               15:\"Workshop - Functional Safety for Autonomous Equipment - Santiago - June 5 2019\",\n",
    "                                               16:\"Workshop - Functional Safety for Autonomous Equipment - Sudbury - April 25 2019\",\n",
    "                                               17:\"AGM and Social - Montreal - April 2019\",\n",
    "                                               18:\"CIM - Montreal - 2019\",\n",
    "                                               19:\"SME - Denver 2019\",\n",
    "                                               20:\"Short Course - BEV - Montreal - April 2019\", \n",
    "                                               21:\"Short Course - Implementation of Autonomous Systems - Montreal - April 2019\"})"
   ]
  },
  {
   "cell_type": "markdown",
   "metadata": {},
   "source": [
    "Traansforming and exporting the data frame into an excel file"
   ]
  },
  {
   "cell_type": "code",
   "execution_count": null,
   "metadata": {},
   "outputs": [],
   "source": [
    "attendees_df = attendees_df.transpose()"
   ]
  },
  {
   "cell_type": "code",
   "execution_count": null,
   "metadata": {},
   "outputs": [],
   "source": [
    "attendees_df.to_excel(\"E:\\\\MyFolder\\\\Cambrian College\\\\Capstone Project\\\\NumberOfAttendees.xlsx\")"
   ]
  }
 ],
 "metadata": {
  "kernelspec": {
   "display_name": "Python 3",
   "language": "python",
   "name": "python3"
  },
  "language_info": {
   "codemirror_mode": {
    "name": "ipython",
    "version": 3
   },
   "file_extension": ".py",
   "mimetype": "text/x-python",
   "name": "python",
   "nbconvert_exporter": "python",
   "pygments_lexer": "ipython3",
   "version": "3.7.1"
  }
 },
 "nbformat": 4,
 "nbformat_minor": 2
}
