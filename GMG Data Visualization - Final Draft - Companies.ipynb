{
 "cells": [
  {
   "cell_type": "markdown",
   "metadata": {},
   "source": [
    "Importing pandas library"
   ]
  },
  {
   "cell_type": "code",
   "execution_count": null,
   "metadata": {},
   "outputs": [],
   "source": [
    "import pandas as pd"
   ]
  },
  {
   "cell_type": "markdown",
   "metadata": {},
   "source": [
    "Importing contacts_visual.xlsx, replacing the NaNs with spaces, and extracting the important columns"
   ]
  },
  {
   "cell_type": "code",
   "execution_count": null,
   "metadata": {},
   "outputs": [],
   "source": [
    "contacts = pd.read_excel(\"E:\\MyFolder\\Cambrian College\\Capstone Project\\contacts_visual.xlsx\", sheet = 1)"
   ]
  },
  {
   "cell_type": "code",
   "execution_count": null,
   "metadata": {},
   "outputs": [],
   "source": [
    "contacts = contacts.fillna(\" \")\n",
    "contacts = contacts.iloc[:, 2:].values.tolist()"
   ]
  },
  {
   "cell_type": "markdown",
   "metadata": {},
   "source": [
    "Function to get a dataframe of the events containing the first and the second string and the list of companies attending that event or workgouo"
   ]
  },
  {
   "cell_type": "code",
   "execution_count": null,
   "metadata": {},
   "outputs": [],
   "source": [
    "def countevents(str1, str2):\n",
    "    dictionary = dict()\n",
    "    for each in contacts:\n",
    "        temp_list = list()\n",
    "        for i in range(1, len(each)-1):\n",
    "            if (str1 in each[i] and str2 in each[i]):\n",
    "                temp_list.append(each[i])\n",
    "            dictionary[each[0]] = temp_list\n",
    "    final_df = pd.DataFrame.from_dict(dictionary, orient = \"index\")\n",
    "    return final_df"
   ]
  },
  {
   "cell_type": "markdown",
   "metadata": {},
   "source": [
    "A list of companies and workgroups that each company is a part of"
   ]
  },
  {
   "cell_type": "code",
   "execution_count": null,
   "metadata": {},
   "outputs": [],
   "source": [
    "workinggroup = countevents(\"WG\", \"\")\n",
    "workinggroup.to_excel('E:\\MyFolder\\Cambrian College\\Capstone Project\\Exported Files\\WorkingGroups.xlsx')"
   ]
  },
  {
   "cell_type": "markdown",
   "metadata": {},
   "source": [
    "A list of companies and the forums attended by them in 2017 exported to excel"
   ]
  },
  {
   "cell_type": "raw",
   "metadata": {},
   "source": [
    "forum2017 = countevents(\"Forum\",  \"2017\")\n",
    "forum2017.to_excel('E:\\MyFolder\\Cambrian College\\Capstone Project\\Exported Files\\Forums2017.xlsx')"
   ]
  },
  {
   "cell_type": "markdown",
   "metadata": {},
   "source": [
    "A list of companies and the forums attended by them in 2018 exported to excel"
   ]
  },
  {
   "cell_type": "code",
   "execution_count": null,
   "metadata": {},
   "outputs": [],
   "source": [
    "forum2018 = countevents(\"Forum\",  \"2018\")\n",
    "forum2018.to_excel('E:\\MyFolder\\Cambrian College\\Capstone Project\\Exported Files\\Forums2018.xlsx')"
   ]
  },
  {
   "cell_type": "markdown",
   "metadata": {},
   "source": [
    "A list of companies and the forums attended by them in 2019 exported to excel"
   ]
  },
  {
   "cell_type": "code",
   "execution_count": null,
   "metadata": {},
   "outputs": [],
   "source": [
    "forum2019 = countevents(\"Forum\",  \"2019\")\n",
    "forum2019.to_excel('E:\\MyFolder\\Cambrian College\\Capstone Project\\Exported Files\\Forums2019.xlsx')"
   ]
  },
  {
   "cell_type": "markdown",
   "metadata": {},
   "source": [
    "A list of companies and the workshops attended by them in 2017 exported to excel"
   ]
  },
  {
   "cell_type": "code",
   "execution_count": null,
   "metadata": {},
   "outputs": [],
   "source": [
    "workshop2017 = countevents(\"Workshop\",  \"2017\")\n",
    "workshop2017.to_excel('E:\\MyFolder\\Cambrian College\\Capstone Project\\Exported Files\\Workshops2017.xlsx')"
   ]
  },
  {
   "cell_type": "markdown",
   "metadata": {},
   "source": [
    "A list of companies and the workshops attended by them in 2018 exported to excel"
   ]
  },
  {
   "cell_type": "code",
   "execution_count": null,
   "metadata": {},
   "outputs": [],
   "source": [
    "workshop2018 = countevents(\"Workshop\",  \"2018\")\n",
    "workshop2018.to_excel('E:\\MyFolder\\Cambrian College\\Capstone Project\\Exported Files\\Workshops2018.xlsx')"
   ]
  },
  {
   "cell_type": "markdown",
   "metadata": {},
   "source": [
    "A list of companies and the workshops attended by them in 2019 exported to excel"
   ]
  },
  {
   "cell_type": "code",
   "execution_count": null,
   "metadata": {},
   "outputs": [],
   "source": [
    "workshop2019 = countevents(\"Workshop\",  \"2019\")\n",
    "workshop2019.to_excel('E:\\MyFolder\\Cambrian College\\Capstone Project\\Exported Files\\Workshops2019.xlsx')"
   ]
  },
  {
   "cell_type": "markdown",
   "metadata": {},
   "source": [
    "A list of companies and the events attended by them in 2017 exported to excel"
   ]
  },
  {
   "cell_type": "code",
   "execution_count": null,
   "metadata": {},
   "outputs": [],
   "source": [
    "events2017 = countevents(\"\",  \"2017\")\n",
    "events2017.to_excel('E:\\MyFolder\\Cambrian College\\Capstone Project\\Exported Files\\Events2017.xlsx')"
   ]
  },
  {
   "cell_type": "markdown",
   "metadata": {},
   "source": [
    "A list of companies and the events attended by them in 2018 exported to excel"
   ]
  },
  {
   "cell_type": "code",
   "execution_count": null,
   "metadata": {},
   "outputs": [],
   "source": [
    "events2018 = countevents(\"\",  \"2018\")\n",
    "events2018.to_excel('E:\\MyFolder\\Cambrian College\\Capstone Project\\Exported Files\\Events2018.xlsx')"
   ]
  },
  {
   "cell_type": "markdown",
   "metadata": {},
   "source": [
    "A list of companies and the events attended by them in 2019 exported to excel"
   ]
  },
  {
   "cell_type": "code",
   "execution_count": null,
   "metadata": {},
   "outputs": [],
   "source": [
    "events2019 = countevents(\"\",  \"2019\")\n",
    "events2019.to_excel('E:\\MyFolder\\Cambrian College\\Capstone Project\\Exported Files\\Events2019.xlsx')"
   ]
  },
  {
   "cell_type": "markdown",
   "metadata": {},
   "source": [
    "Function to count the number of events containing string 1 and string 2"
   ]
  },
  {
   "cell_type": "code",
   "execution_count": null,
   "metadata": {},
   "outputs": [],
   "source": [
    "def lengthevents(str1, str2):\n",
    "    dictionary = dict()\n",
    "    for each in contacts:\n",
    "        temp_list = list()\n",
    "        for i in range(1, len(each)-1):\n",
    "            if (str1 in each[i] and str2 in each[i]):\n",
    "                temp_list.append(each[i])\n",
    "            dictionary[each[0]] = len(temp_list)\n",
    "    return dictionary"
   ]
  },
  {
   "cell_type": "markdown",
   "metadata": {},
   "source": [
    "Calculating the number of workgroups, forums, workshops, and total events by company"
   ]
  },
  {
   "cell_type": "code",
   "execution_count": null,
   "metadata": {},
   "outputs": [],
   "source": [
    "workgrouplen = lengthevents(\"WG\", \"\")\n",
    "forum2017len = lengthevents(\"Forum\", \"2017\")\n",
    "forum2018len = lengthevents(\"Forum\", \"2018\")\n",
    "forum2019len = lengthevents(\"Forum\", \"2019\")\n",
    "workshop2017len = lengthevents(\"Workshop\", \"2017\")\n",
    "workshop2018len = lengthevents(\"Workshop\", \"2018\")\n",
    "workshop2019len = lengthevents(\"Workshop\", \"2019\")\n",
    "events2017len = lengthevents(\"2017\", \"\")\n",
    "events2018len = lengthevents(\"2018\", \"\")\n",
    "events2019len = lengthevents(\"2019\", \"\")"
   ]
  },
  {
   "cell_type": "markdown",
   "metadata": {},
   "source": [
    "Transforming the data frame"
   ]
  },
  {
   "cell_type": "code",
   "execution_count": null,
   "metadata": {},
   "outputs": [],
   "source": [
    "stats = [workgrouplen, forum2017len, forum2018len, forum2019len, workshop2017len, workshop2018len, workshop2019len, events2017len, events2018len, events2019len]\n",
    "contact_stats = pd.DataFrame.from_records(stats).fillna(\" \")\n",
    "contact_stats = contact_stats.rename(index = {0:\"Number of Workgroups\", 1:\"Number of Forums in 2017\", \n",
    "                                              2:\"Number of Forums in 2018\", 3:\"Number of Forums in 2019\",\n",
    "                                              4:\"Number of Workshops in 2017\", 5:\"Number of Workshops in 2018\", \n",
    "                                              6:\"Number of Workshops in 2019\", 7:\"Number of Events in 2017\",\n",
    "                                              8:\"Number of Events in 2018\", 9:\"Number of Events in 2019\"})\n",
    "contact_stats = contact_stats.transpose()"
   ]
  },
  {
   "cell_type": "code",
   "execution_count": null,
   "metadata": {},
   "outputs": [],
   "source": [
    "contact_stats[\"Total Forums\"] = contact_stats[\"Number of Forums in 2017\"] + contact_stats[\"Number of Forums in 2018\"] + contact_stats[\"Number of Forums in 2019\"]\n",
    "contact_stats[\"Total Workshops\"] = contact_stats[\"Number of Workshops in 2017\"] + contact_stats[\"Number of Workshops in 2018\"] + contact_stats[\"Number of Workshops in 2019\"]\n",
    "contact_stats[\"Total Events\"] = contact_stats[\"Number of Events in 2017\"] + contact_stats[\"Number of Events in 2018\"] + contact_stats[\"Number of Events in 2019\"]"
   ]
  },
  {
   "cell_type": "markdown",
   "metadata": {},
   "source": [
    "Importing the tags for events in 2017, 2018, 2019, and the list of workgroups"
   ]
  },
  {
   "cell_type": "code",
   "execution_count": null,
   "metadata": {},
   "outputs": [],
   "source": [
    "tags2017 = pd.read_excel(\"E:\\MyFolder\\Cambrian College\\Capstone Project\\Tags2017.xlsx\").values\n",
    "tags2018 = pd.read_excel(\"E:\\MyFolder\\Cambrian College\\Capstone Project\\Tags2018.xlsx\").values\n",
    "tags2019 = pd.read_excel(\"E:\\MyFolder\\Cambrian College\\Capstone Project\\Tags2019.xlsx\").values\n",
    "workgroups = pd.read_excel(\"E:\\MyFolder\\Cambrian College\\Capstone Project\\WorkgroupList.xlsx\").values"
   ]
  },
  {
   "cell_type": "markdown",
   "metadata": {},
   "source": [
    "Function to calculate the lengths of the above dataframes"
   ]
  },
  {
   "cell_type": "code",
   "execution_count": null,
   "metadata": {},
   "outputs": [],
   "source": [
    "def totaleve(array1, str2, str3):\n",
    "    temp_dict = []\n",
    "    for each in array1:\n",
    "        if (str2 in each[0] and str3 in each[0]):\n",
    "            temp_dict.append(each[0])\n",
    "    return len(temp_dict)"
   ]
  },
  {
   "cell_type": "markdown",
   "metadata": {},
   "source": [
    "Calculating the lengths"
   ]
  },
  {
   "cell_type": "code",
   "execution_count": null,
   "metadata": {},
   "outputs": [],
   "source": [
    "totforum2017 = totaleve(tags2017, \"Forum\", \"2017\")\n",
    "totalworkshop2017 = totaleve(tags2017, \"Workshop\", \"2017\")\n",
    "totforum2018 = totaleve(tags2018, \"Forum\", \"2018\")\n",
    "totalworkshop2018 = totaleve(tags2018, \"Workshop\", \"2018\")\n",
    "totforum2019 = totaleve(tags2019, \"Forum\", \"2019\")\n",
    "totalworkshop2019 = totaleve(tags2019, \"Workshop\", \"2019\")\n",
    "totalforums = totforum2017 + totforum2018 + totforum2019\n",
    "totalworkshops = totalworkshop2017 + totalworkshop2018 + totalworkshop2019\n",
    "totalevents2017 = len(tags2017)\n",
    "totalevents2018 = len(tags2018)\n",
    "totalevents2019 = len(tags2019)\n",
    "totalevents = totalevents2017 + totalevents2018 + totalevents2019\n",
    "print(totalevents)\n",
    "totalworkgroups = len(workgroups)"
   ]
  },
  {
   "cell_type": "code",
   "execution_count": null,
   "metadata": {},
   "outputs": [],
   "source": [
    "contact_stats[\"Percent of Forums\"] = round(((contact_stats[\"Total Forums\"] / totalforums) * 100), 2)\n",
    "contact_stats[\"Percent of Workshops\"] = round(((contact_stats[\"Total Workshops\"] / totalworkshops) * 100), 2)\n",
    "contact_stats[\"Percent of Events\"] = round(((contact_stats[\"Total Events\"] / totalevents) * 100), 2)\n",
    "contact_stats[\"Percent of Workgroups\"] = round(((contact_stats[\"Number of Workgroups\"] / totalworkgroups) * 100), 2)"
   ]
  },
  {
   "cell_type": "markdown",
   "metadata": {},
   "source": [
    "Exporting to excel"
   ]
  },
  {
   "cell_type": "code",
   "execution_count": null,
   "metadata": {},
   "outputs": [],
   "source": [
    "contact_stats.to_excel('E:\\MyFolder\\Cambrian College\\Capstone Project\\Exported Files\\ContactStats.xlsx')"
   ]
  },
  {
   "cell_type": "code",
   "execution_count": null,
   "metadata": {},
   "outputs": [],
   "source": []
  }
 ],
 "metadata": {
  "kernelspec": {
   "display_name": "Python 3",
   "language": "python",
   "name": "python3"
  },
  "language_info": {
   "codemirror_mode": {
    "name": "ipython",
    "version": 3
   },
   "file_extension": ".py",
   "mimetype": "text/x-python",
   "name": "python",
   "nbconvert_exporter": "python",
   "pygments_lexer": "ipython3",
   "version": "3.7.1"
  }
 },
 "nbformat": 4,
 "nbformat_minor": 2
}
